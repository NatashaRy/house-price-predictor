{
  "cells": [
    {
      "cell_type": "markdown",
      "metadata": {
        "id": "0aStgWSO0E0E"
      },
      "source": [
        "# **01 - Data Collection**"
      ]
    },
    {
      "cell_type": "markdown",
      "metadata": {
        "id": "1eLEkw5O0ECa"
      },
      "source": [
        "## Objectives\n",
        "\n",
        "* Install the Kaggle API to enable dataset retrieval.\n",
        "* Authenticate using the Kaggle API token stored in the `kaggle.json` file.\n",
        "* Download the raw dataset from Kaggle.\n",
        "* Inspect the dataset to ensure it is loaded correctly.\n",
        "* Save the dataset in the `inputs/datasets/raw/` folder for further processing.\n",
        "\n",
        "## Inputs\n",
        "\n",
        "* Kaggle dataset: [Housing Prices Data](\n",
        ")\n",
        "* Kaggle API token stored in the `kaggle.json` file.\n",
        "\n",
        "## Outputs\n",
        "\n",
        "* Raw dataset saved as `inputs/datasets/raw/housing_prices.csv`.\n",
        "\n",
        "## Additional Comments\n",
        "\n",
        "* Ensure that the Kaggle API token (`kaggle.json`) is correctly configured and stored in the project root directory.\n",
        "* The working directory will be adjusted to the project root to ensure consistent file paths."
      ]
    },
    {
      "cell_type": "markdown",
      "metadata": {
        "id": "9uWZXH9LwoQg"
      },
      "source": [
        "---"
      ]
    },
    {
      "cell_type": "markdown",
      "metadata": {
        "id": "cqP-UeN-z3i2"
      },
      "source": [
        "# Change working directory"
      ]
    },
    {
      "cell_type": "markdown",
      "metadata": {},
      "source": [
        "* We are assuming you will store the notebooks in a subfolder, therefore when running the notebook in the editor, you will need to change the working directory"
      ]
    },
    {
      "cell_type": "markdown",
      "metadata": {
        "id": "aOGIGS-uz3i2"
      },
      "source": [
        "We need to change the working directory from its current folder to its parent folder\n",
        "* We access the current directory with os.getcwd()"
      ]
    },
    {
      "cell_type": "code",
      "execution_count": 1,
      "metadata": {
        "id": "wZfF_j-Bz3i4",
        "outputId": "66943449-1436-4c3d-85c7-b85f9f78349b"
      },
      "outputs": [
        {
          "data": {
            "text/plain": [
              "'/workspaces/milestone-project-heritage-housing-issues/jupyter_notebooks'"
            ]
          },
          "execution_count": 1,
          "metadata": {},
          "output_type": "execute_result"
        }
      ],
      "source": [
        "import os\n",
        "current_dir = os.getcwd()\n",
        "current_dir"
      ]
    },
    {
      "cell_type": "markdown",
      "metadata": {
        "id": "9MWW8E7lz3i7"
      },
      "source": [
        "We want to make the parent of the current directory the new current directory\n",
        "* os.path.dirname() gets the parent directory\n",
        "* os.chir() defines the new current directory"
      ]
    },
    {
      "cell_type": "code",
      "execution_count": 2,
      "metadata": {
        "id": "TwHsQRWjz3i9",
        "outputId": "86849db3-cd2f-4cc5-ebb8-2d0caafa1a2c"
      },
      "outputs": [
        {
          "name": "stdout",
          "output_type": "stream",
          "text": [
            "You set a new current directory\n"
          ]
        }
      ],
      "source": [
        "os.chdir(os.path.dirname(current_dir))\n",
        "print(\"You set a new current directory\")"
      ]
    },
    {
      "cell_type": "markdown",
      "metadata": {
        "id": "M_xPk_Ijz3i-"
      },
      "source": [
        "Confirm the new current directory"
      ]
    },
    {
      "cell_type": "code",
      "execution_count": 3,
      "metadata": {
        "id": "vz3S-_kjz3jA",
        "outputId": "00b79ae4-75d0-4a96-d193-ac9ef9847ea2"
      },
      "outputs": [
        {
          "data": {
            "text/plain": [
              "'/workspaces/milestone-project-heritage-housing-issues'"
            ]
          },
          "execution_count": 3,
          "metadata": {},
          "output_type": "execute_result"
        }
      ],
      "source": [
        "current_dir = os.getcwd()\n",
        "current_dir"
      ]
    },
    {
      "cell_type": "markdown",
      "metadata": {
        "id": "-mavJ8DibrcQ"
      },
      "source": [
        "# Section 1: Data Retrieval"
      ]
    },
    {
      "cell_type": "markdown",
      "metadata": {},
      "source": [
        "To retrieve the raw project data, we first need to install the Kaggle API, which allows us to download datasets directly from Kaggle. This requires the installation of the Kaggle Python package. "
      ]
    },
    {
      "cell_type": "code",
      "execution_count": 4,
      "metadata": {},
      "outputs": [
        {
          "name": "stdout",
          "output_type": "stream",
          "text": [
            "Collecting kaggle\n",
            "  Downloading kaggle-1.7.4.5-py3-none-any.whl.metadata (16 kB)\n",
            "Requirement already satisfied: bleach in /home/cistudent/.pyenv/versions/3.12.1/lib/python3.12/site-packages (from kaggle) (6.2.0)\n",
            "Requirement already satisfied: certifi>=14.05.14 in /home/cistudent/.pyenv/versions/3.12.1/lib/python3.12/site-packages (from kaggle) (2024.12.14)\n",
            "Requirement already satisfied: charset-normalizer in /home/cistudent/.pyenv/versions/3.12.1/lib/python3.12/site-packages (from kaggle) (3.4.0)\n",
            "Requirement already satisfied: idna in /home/cistudent/.pyenv/versions/3.12.1/lib/python3.12/site-packages (from kaggle) (3.10)\n",
            "Requirement already satisfied: protobuf in /home/cistudent/.local/lib/python3.12/site-packages (from kaggle) (5.29.5)\n",
            "Requirement already satisfied: python-dateutil>=2.5.3 in /home/cistudent/.pyenv/versions/3.12.1/lib/python3.12/site-packages (from kaggle) (2.9.0.post0)\n",
            "Collecting python-slugify (from kaggle)\n",
            "  Downloading python_slugify-8.0.4-py2.py3-none-any.whl.metadata (8.5 kB)\n",
            "Requirement already satisfied: requests in /home/cistudent/.pyenv/versions/3.12.1/lib/python3.12/site-packages (from kaggle) (2.32.3)\n",
            "Requirement already satisfied: setuptools>=21.0.0 in /home/cistudent/.pyenv/versions/3.12.1/lib/python3.12/site-packages (from kaggle) (75.6.0)\n",
            "Requirement already satisfied: six>=1.10 in /home/cistudent/.pyenv/versions/3.12.1/lib/python3.12/site-packages (from kaggle) (1.17.0)\n",
            "Collecting text-unidecode (from kaggle)\n",
            "  Downloading text_unidecode-1.3-py2.py3-none-any.whl.metadata (2.4 kB)\n",
            "Requirement already satisfied: tqdm in /home/cistudent/.local/lib/python3.12/site-packages (from kaggle) (4.67.1)\n",
            "Requirement already satisfied: urllib3>=1.15.1 in /home/cistudent/.pyenv/versions/3.12.1/lib/python3.12/site-packages (from kaggle) (2.2.3)\n",
            "Requirement already satisfied: webencodings in /home/cistudent/.pyenv/versions/3.12.1/lib/python3.12/site-packages (from kaggle) (0.5.1)\n",
            "Downloading kaggle-1.7.4.5-py3-none-any.whl (181 kB)\n",
            "Downloading python_slugify-8.0.4-py2.py3-none-any.whl (10 kB)\n",
            "Downloading text_unidecode-1.3-py2.py3-none-any.whl (78 kB)\n",
            "Installing collected packages: text-unidecode, python-slugify, kaggle\n",
            "Successfully installed kaggle-1.7.4.5 python-slugify-8.0.4 text-unidecode-1.3\n",
            "\n",
            "\u001b[1m[\u001b[0m\u001b[34;49mnotice\u001b[0m\u001b[1;39;49m]\u001b[0m\u001b[39;49m A new release of pip is available: \u001b[0m\u001b[31;49m24.3.1\u001b[0m\u001b[39;49m -> \u001b[0m\u001b[32;49m25.2\u001b[0m\n",
            "\u001b[1m[\u001b[0m\u001b[34;49mnotice\u001b[0m\u001b[1;39;49m]\u001b[0m\u001b[39;49m To update, run: \u001b[0m\u001b[32;49mpip install --upgrade pip\u001b[0m\n",
            "Note: you may need to restart the kernel to use updated packages.\n"
          ]
        }
      ],
      "source": [
        "%pip install kaggle"
      ]
    },
    {
      "cell_type": "markdown",
      "metadata": {},
      "source": [
        "To configure the Kaggle API for data set retrieval, we first need to set the enviroment variable `KAGGLE_CONFIG_DIR` to the current directory where the `kaggle.json` file is stored. This file contains the necessary credentials for authentification. \n",
        "We use the `chmod 600` to restrict the access to the `kaggle.json` file, ensuring that it is only readable and writeble by the owner."
      ]
    },
    {
      "cell_type": "code",
      "execution_count": 5,
      "metadata": {},
      "outputs": [],
      "source": [
        "import os\n",
        "os.environ['KAGGLE_CONFIG_DIR'] = os.getcwd()\n",
        "! chmod 600 kaggle.json"
      ]
    },
    {
      "cell_type": "markdown",
      "metadata": {},
      "source": [
        "Next, we download the zip file containing the dataset."
      ]
    },
    {
      "cell_type": "code",
      "execution_count": 6,
      "metadata": {},
      "outputs": [
        {
          "name": "stdout",
          "output_type": "stream",
          "text": [
            "Dataset URL: https://www.kaggle.com/datasets/codeinstitute/housing-prices-data\n",
            "License(s): unknown\n",
            "Downloading housing-prices-data.zip to inputs/datasets/raw\n",
            "  0%|                                               | 0.00/49.6k [00:00<?, ?B/s]\n",
            "100%|███████████████████████████████████████| 49.6k/49.6k [00:00<00:00, 113MB/s]\n"
          ]
        }
      ],
      "source": [
        "KaggleDatasetPath = \"codeinstitute/housing-prices-data\"\n",
        "DestinationFolder = \"inputs/datasets/raw\"   \n",
        "! kaggle datasets download -d {KaggleDatasetPath} -p {DestinationFolder}"
      ]
    },
    {
      "cell_type": "markdown",
      "metadata": {},
      "source": [
        "Unzip dataset, delete zip-file and remove kaggle.json file."
      ]
    },
    {
      "cell_type": "code",
      "execution_count": 16,
      "metadata": {},
      "outputs": [
        {
          "name": "stdout",
          "output_type": "stream",
          "text": [
            "unzip:  cannot find or open inputs/datasets/raw/*.zip, inputs/datasets/raw/*.zip.zip or inputs/datasets/raw/*.zip.ZIP.\n",
            "\n",
            "No zipfiles found.\n"
          ]
        }
      ],
      "source": [
        "! unzip {DestinationFolder}/*.zip -d {DestinationFolder} \\\n",
        "  && rm {DestinationFolder}/*.zip \\\n",
        "  && rm kaggle.json"
      ]
    },
    {
      "cell_type": "markdown",
      "metadata": {},
      "source": [
        "Moving the CSV files to `/inputs/datasets/raw/` and removing unnecessary folders simplifies the project structure, makes the code cleaner, and follows best practices for organizing raw data."
      ]
    },
    {
      "cell_type": "code",
      "execution_count": 17,
      "metadata": {},
      "outputs": [],
      "source": [
        "!mv inputs/datasets/raw/house-price-20211124T154130Z-001/house-price/*.csv inputs/datasets/raw/ \\\n",
        "  && rmdir inputs/datasets/raw/house-price-20211124T154130Z-001/house-price \\\n",
        "  && rmdir inputs/datasets/raw/house-price-20211124T154130Z-001"
      ]
    },
    {
      "cell_type": "markdown",
      "metadata": {
        "id": "ZY3l0-AxO93d"
      },
      "source": [
        "---"
      ]
    },
    {
      "cell_type": "markdown",
      "metadata": {
        "id": "uFQo3ycuO-v6"
      },
      "source": [
        "# Section 2: Load and Inspect Kaggle Data"
      ]
    },
    {
      "cell_type": "markdown",
      "metadata": {},
      "source": [
        "* Import the Pandas library to work with tabular data.\n",
        "* Load the datasets (`house_prices_records.csv`and `inherited_houses.csv`) into two separate Pandas DataFrames.\n",
        "* Display the first few rows of `df_prices`."
      ]
    },
    {
      "cell_type": "code",
      "execution_count": 36,
      "metadata": {},
      "outputs": [
        {
          "data": {
            "text/html": [
              "<div>\n",
              "<style scoped>\n",
              "    .dataframe tbody tr th:only-of-type {\n",
              "        vertical-align: middle;\n",
              "    }\n",
              "\n",
              "    .dataframe tbody tr th {\n",
              "        vertical-align: top;\n",
              "    }\n",
              "\n",
              "    .dataframe thead th {\n",
              "        text-align: right;\n",
              "    }\n",
              "</style>\n",
              "<table border=\"1\" class=\"dataframe\">\n",
              "  <thead>\n",
              "    <tr style=\"text-align: right;\">\n",
              "      <th></th>\n",
              "      <th>1stFlrSF</th>\n",
              "      <th>2ndFlrSF</th>\n",
              "      <th>BedroomAbvGr</th>\n",
              "      <th>BsmtExposure</th>\n",
              "      <th>BsmtFinSF1</th>\n",
              "      <th>BsmtFinType1</th>\n",
              "      <th>BsmtUnfSF</th>\n",
              "      <th>EnclosedPorch</th>\n",
              "      <th>GarageArea</th>\n",
              "      <th>GarageFinish</th>\n",
              "      <th>...</th>\n",
              "      <th>LotFrontage</th>\n",
              "      <th>MasVnrArea</th>\n",
              "      <th>OpenPorchSF</th>\n",
              "      <th>OverallCond</th>\n",
              "      <th>OverallQual</th>\n",
              "      <th>TotalBsmtSF</th>\n",
              "      <th>WoodDeckSF</th>\n",
              "      <th>YearBuilt</th>\n",
              "      <th>YearRemodAdd</th>\n",
              "      <th>SalePrice</th>\n",
              "    </tr>\n",
              "  </thead>\n",
              "  <tbody>\n",
              "    <tr>\n",
              "      <th>0</th>\n",
              "      <td>856</td>\n",
              "      <td>854.0</td>\n",
              "      <td>3.0</td>\n",
              "      <td>No</td>\n",
              "      <td>706</td>\n",
              "      <td>GLQ</td>\n",
              "      <td>150</td>\n",
              "      <td>0.0</td>\n",
              "      <td>548</td>\n",
              "      <td>RFn</td>\n",
              "      <td>...</td>\n",
              "      <td>65.0</td>\n",
              "      <td>196.0</td>\n",
              "      <td>61</td>\n",
              "      <td>5</td>\n",
              "      <td>7</td>\n",
              "      <td>856</td>\n",
              "      <td>0.0</td>\n",
              "      <td>2003</td>\n",
              "      <td>2003</td>\n",
              "      <td>208500</td>\n",
              "    </tr>\n",
              "    <tr>\n",
              "      <th>1</th>\n",
              "      <td>1262</td>\n",
              "      <td>0.0</td>\n",
              "      <td>3.0</td>\n",
              "      <td>Gd</td>\n",
              "      <td>978</td>\n",
              "      <td>ALQ</td>\n",
              "      <td>284</td>\n",
              "      <td>NaN</td>\n",
              "      <td>460</td>\n",
              "      <td>RFn</td>\n",
              "      <td>...</td>\n",
              "      <td>80.0</td>\n",
              "      <td>0.0</td>\n",
              "      <td>0</td>\n",
              "      <td>8</td>\n",
              "      <td>6</td>\n",
              "      <td>1262</td>\n",
              "      <td>NaN</td>\n",
              "      <td>1976</td>\n",
              "      <td>1976</td>\n",
              "      <td>181500</td>\n",
              "    </tr>\n",
              "    <tr>\n",
              "      <th>2</th>\n",
              "      <td>920</td>\n",
              "      <td>866.0</td>\n",
              "      <td>3.0</td>\n",
              "      <td>Mn</td>\n",
              "      <td>486</td>\n",
              "      <td>GLQ</td>\n",
              "      <td>434</td>\n",
              "      <td>0.0</td>\n",
              "      <td>608</td>\n",
              "      <td>RFn</td>\n",
              "      <td>...</td>\n",
              "      <td>68.0</td>\n",
              "      <td>162.0</td>\n",
              "      <td>42</td>\n",
              "      <td>5</td>\n",
              "      <td>7</td>\n",
              "      <td>920</td>\n",
              "      <td>NaN</td>\n",
              "      <td>2001</td>\n",
              "      <td>2002</td>\n",
              "      <td>223500</td>\n",
              "    </tr>\n",
              "    <tr>\n",
              "      <th>3</th>\n",
              "      <td>961</td>\n",
              "      <td>NaN</td>\n",
              "      <td>NaN</td>\n",
              "      <td>No</td>\n",
              "      <td>216</td>\n",
              "      <td>ALQ</td>\n",
              "      <td>540</td>\n",
              "      <td>NaN</td>\n",
              "      <td>642</td>\n",
              "      <td>Unf</td>\n",
              "      <td>...</td>\n",
              "      <td>60.0</td>\n",
              "      <td>0.0</td>\n",
              "      <td>35</td>\n",
              "      <td>5</td>\n",
              "      <td>7</td>\n",
              "      <td>756</td>\n",
              "      <td>NaN</td>\n",
              "      <td>1915</td>\n",
              "      <td>1970</td>\n",
              "      <td>140000</td>\n",
              "    </tr>\n",
              "    <tr>\n",
              "      <th>4</th>\n",
              "      <td>1145</td>\n",
              "      <td>NaN</td>\n",
              "      <td>4.0</td>\n",
              "      <td>Av</td>\n",
              "      <td>655</td>\n",
              "      <td>GLQ</td>\n",
              "      <td>490</td>\n",
              "      <td>0.0</td>\n",
              "      <td>836</td>\n",
              "      <td>RFn</td>\n",
              "      <td>...</td>\n",
              "      <td>84.0</td>\n",
              "      <td>350.0</td>\n",
              "      <td>84</td>\n",
              "      <td>5</td>\n",
              "      <td>8</td>\n",
              "      <td>1145</td>\n",
              "      <td>NaN</td>\n",
              "      <td>2000</td>\n",
              "      <td>2000</td>\n",
              "      <td>250000</td>\n",
              "    </tr>\n",
              "  </tbody>\n",
              "</table>\n",
              "<p>5 rows × 24 columns</p>\n",
              "</div>"
            ],
            "text/plain": [
              "   1stFlrSF  2ndFlrSF  BedroomAbvGr BsmtExposure  BsmtFinSF1 BsmtFinType1  \\\n",
              "0       856     854.0           3.0           No         706          GLQ   \n",
              "1      1262       0.0           3.0           Gd         978          ALQ   \n",
              "2       920     866.0           3.0           Mn         486          GLQ   \n",
              "3       961       NaN           NaN           No         216          ALQ   \n",
              "4      1145       NaN           4.0           Av         655          GLQ   \n",
              "\n",
              "   BsmtUnfSF  EnclosedPorch  GarageArea GarageFinish  ...  LotFrontage  \\\n",
              "0        150            0.0         548          RFn  ...         65.0   \n",
              "1        284            NaN         460          RFn  ...         80.0   \n",
              "2        434            0.0         608          RFn  ...         68.0   \n",
              "3        540            NaN         642          Unf  ...         60.0   \n",
              "4        490            0.0         836          RFn  ...         84.0   \n",
              "\n",
              "   MasVnrArea OpenPorchSF  OverallCond  OverallQual  TotalBsmtSF  WoodDeckSF  \\\n",
              "0       196.0          61            5            7          856         0.0   \n",
              "1         0.0           0            8            6         1262         NaN   \n",
              "2       162.0          42            5            7          920         NaN   \n",
              "3         0.0          35            5            7          756         NaN   \n",
              "4       350.0          84            5            8         1145         NaN   \n",
              "\n",
              "   YearBuilt  YearRemodAdd  SalePrice  \n",
              "0       2003          2003     208500  \n",
              "1       1976          1976     181500  \n",
              "2       2001          2002     223500  \n",
              "3       1915          1970     140000  \n",
              "4       2000          2000     250000  \n",
              "\n",
              "[5 rows x 24 columns]"
            ]
          },
          "execution_count": 36,
          "metadata": {},
          "output_type": "execute_result"
        }
      ],
      "source": [
        "import pandas as pd\n",
        "\n",
        "df_prices = pd.read_csv(\"inputs/datasets/raw/house_prices_records.csv\")\n",
        "df_inherited = pd.read_csv(\"inputs/datasets/raw/inherited_houses.csv\")\n",
        "\n",
        "df_prices.head()"
      ]
    },
    {
      "cell_type": "markdown",
      "metadata": {},
      "source": [
        "Inspecting DataFrame Structure.\n",
        "We use `.info()` to inspect the structure of the DataFrame, including column names, data types, and the number of non-null values. This helps us identify missing values and understand the overall structure of the dataset."
      ]
    },
    {
      "cell_type": "code",
      "execution_count": 43,
      "metadata": {},
      "outputs": [
        {
          "name": "stdout",
          "output_type": "stream",
          "text": [
            "Dataset info:\n",
            "<class 'pandas.core.frame.DataFrame'>\n",
            "RangeIndex: 1460 entries, 0 to 1459\n",
            "Data columns (total 24 columns):\n",
            " #   Column         Non-Null Count  Dtype   \n",
            "---  ------         --------------  -----   \n",
            " 0   1stFlrSF       1460 non-null   int64   \n",
            " 1   2ndFlrSF       1374 non-null   float64 \n",
            " 2   BedroomAbvGr   1361 non-null   float64 \n",
            " 3   BsmtExposure   1422 non-null   category\n",
            " 4   BsmtFinSF1     1460 non-null   int64   \n",
            " 5   BsmtFinType1   1315 non-null   category\n",
            " 6   BsmtUnfSF      1460 non-null   int64   \n",
            " 7   EnclosedPorch  136 non-null    float64 \n",
            " 8   GarageArea     1460 non-null   int64   \n",
            " 9   GarageFinish   1225 non-null   category\n",
            " 10  GarageYrBlt    1379 non-null   float64 \n",
            " 11  GrLivArea      1460 non-null   int64   \n",
            " 12  KitchenQual    1460 non-null   category\n",
            " 13  LotArea        1460 non-null   int64   \n",
            " 14  LotFrontage    1201 non-null   float64 \n",
            " 15  MasVnrArea     1452 non-null   float64 \n",
            " 16  OpenPorchSF    1460 non-null   int64   \n",
            " 17  OverallCond    1460 non-null   int64   \n",
            " 18  OverallQual    1460 non-null   int64   \n",
            " 19  TotalBsmtSF    1460 non-null   int64   \n",
            " 20  WoodDeckSF     155 non-null    float64 \n",
            " 21  YearBuilt      1460 non-null   int64   \n",
            " 22  YearRemodAdd   1460 non-null   int64   \n",
            " 23  SalePrice      1460 non-null   int64   \n",
            "dtypes: category(4), float64(7), int64(13)\n",
            "memory usage: 234.7 KB\n"
          ]
        }
      ],
      "source": [
        "print(\"Dataset info:\")\n",
        "df_prices.info()"
      ]
    },
    {
      "cell_type": "markdown",
      "metadata": {},
      "source": [
        "Convert categorical columns to `category`."
      ]
    },
    {
      "cell_type": "code",
      "execution_count": 45,
      "metadata": {},
      "outputs": [],
      "source": [
        "categorical_columns = ['BsmtExposure', 'BsmtFinType1', 'GarageFinish', 'KitchenQual']\n",
        "for col in categorical_columns:\n",
        "    df_prices[col] = df_prices[col].astype('category')"
      ]
    },
    {
      "cell_type": "markdown",
      "metadata": {},
      "source": [
        "Identify the number of missing values in each column of `df_prices`. To count the number of missing values in each column and plan how we will handle them."
      ]
    },
    {
      "cell_type": "code",
      "execution_count": 40,
      "metadata": {},
      "outputs": [
        {
          "data": {
            "text/plain": [
              "1stFlrSF            0\n",
              "2ndFlrSF           86\n",
              "BedroomAbvGr       99\n",
              "BsmtExposure       38\n",
              "BsmtFinSF1          0\n",
              "BsmtFinType1      145\n",
              "BsmtUnfSF           0\n",
              "EnclosedPorch    1324\n",
              "GarageArea          0\n",
              "GarageFinish      235\n",
              "GarageYrBlt        81\n",
              "GrLivArea           0\n",
              "KitchenQual         0\n",
              "LotArea             0\n",
              "LotFrontage       259\n",
              "MasVnrArea          8\n",
              "OpenPorchSF         0\n",
              "OverallCond         0\n",
              "OverallQual         0\n",
              "TotalBsmtSF         0\n",
              "WoodDeckSF       1305\n",
              "YearBuilt           0\n",
              "YearRemodAdd        0\n",
              "SalePrice           0\n",
              "dtype: int64"
            ]
          },
          "execution_count": 40,
          "metadata": {},
          "output_type": "execute_result"
        }
      ],
      "source": [
        "df_prices.isnull().sum()"
      ]
    },
    {
      "cell_type": "markdown",
      "metadata": {},
      "source": [
        "Statistical Summary of Numeric Columns.\n",
        "We use `.describe()` to generate a statistical summary of the numeric columns in the dataset. This helps us understand the distribution of data, identify outliers, and plan for data cleaning."
      ]
    },
    {
      "cell_type": "code",
      "execution_count": 41,
      "metadata": {},
      "outputs": [
        {
          "name": "stdout",
          "output_type": "stream",
          "text": [
            "Statistical Summary of df_prices:\n",
            "          1stFlrSF     2ndFlrSF  BedroomAbvGr   BsmtFinSF1    BsmtUnfSF  \\\n",
            "count  1460.000000  1374.000000   1361.000000  1460.000000  1460.000000   \n",
            "mean   1162.626712   348.524017      2.869214   443.639726   567.240411   \n",
            "std     386.587738   438.865586      0.820115   456.098091   441.866955   \n",
            "min     334.000000     0.000000      0.000000     0.000000     0.000000   \n",
            "25%     882.000000     0.000000      2.000000     0.000000   223.000000   \n",
            "50%    1087.000000     0.000000      3.000000   383.500000   477.500000   \n",
            "75%    1391.250000   728.000000      3.000000   712.250000   808.000000   \n",
            "max    4692.000000  2065.000000      8.000000  5644.000000  2336.000000   \n",
            "\n",
            "       EnclosedPorch   GarageArea  GarageYrBlt    GrLivArea        LotArea  \\\n",
            "count     136.000000  1460.000000  1379.000000  1460.000000    1460.000000   \n",
            "mean       25.330882   472.980137  1978.506164  1515.463699   10516.828082   \n",
            "std        66.684115   213.804841    24.689725   525.480383    9981.264932   \n",
            "min         0.000000     0.000000  1900.000000   334.000000    1300.000000   \n",
            "25%         0.000000   334.500000  1961.000000  1129.500000    7553.500000   \n",
            "50%         0.000000   480.000000  1980.000000  1464.000000    9478.500000   \n",
            "75%         0.000000   576.000000  2002.000000  1776.750000   11601.500000   \n",
            "max       286.000000  1418.000000  2010.000000  5642.000000  215245.000000   \n",
            "\n",
            "       LotFrontage   MasVnrArea  OpenPorchSF  OverallCond  OverallQual  \\\n",
            "count  1201.000000  1452.000000  1460.000000  1460.000000  1460.000000   \n",
            "mean     70.049958   103.685262    46.660274     5.575342     6.099315   \n",
            "std      24.284752   181.066207    66.256028     1.112799     1.382997   \n",
            "min      21.000000     0.000000     0.000000     1.000000     1.000000   \n",
            "25%      59.000000     0.000000     0.000000     5.000000     5.000000   \n",
            "50%      69.000000     0.000000    25.000000     5.000000     6.000000   \n",
            "75%      80.000000   166.000000    68.000000     6.000000     7.000000   \n",
            "max     313.000000  1600.000000   547.000000     9.000000    10.000000   \n",
            "\n",
            "       TotalBsmtSF  WoodDeckSF    YearBuilt  YearRemodAdd      SalePrice  \n",
            "count  1460.000000  155.000000  1460.000000   1460.000000    1460.000000  \n",
            "mean   1057.429452  103.741935  1971.267808   1984.865753  180921.195890  \n",
            "std     438.705324  135.543152    30.202904     20.645407   79442.502883  \n",
            "min       0.000000    0.000000  1872.000000   1950.000000   34900.000000  \n",
            "25%     795.750000    0.000000  1954.000000   1967.000000  129975.000000  \n",
            "50%     991.500000    0.000000  1973.000000   1994.000000  163000.000000  \n",
            "75%    1298.250000  182.500000  2000.000000   2004.000000  214000.000000  \n",
            "max    6110.000000  736.000000  2010.000000   2010.000000  755000.000000  \n"
          ]
        }
      ],
      "source": [
        "print(\"Statistical Summary of df_prices:\")\n",
        "print(df_prices.describe())"
      ]
    },
    {
      "cell_type": "markdown",
      "metadata": {},
      "source": [
        "---"
      ]
    },
    {
      "cell_type": "markdown",
      "metadata": {},
      "source": [
        "## Conclusions and next step\n",
        "### Concolusions:\n",
        "**From `.info()`:**\n",
        "* Columns with missing value: `2ndFlrSF`, `BedroomAbvGr`, `BsmtExposure`, `BsmtFinType1`, `EnclosedPorch`, `GarageFinish`, `GarageYrBlt`, `LotFrontage`, `MasVnrArea`, `WoodDeckSF`.\n",
        "* Categorical columns (`object`) were converted to `category` for optimization. \n",
        "* The dataset has 1460 rows and 24 columns.\n",
        "\n",
        "**From `.isnull().sum()`:**\n",
        "* `LotFrontage` has 259 missing values (17.7% of the data).\n",
        "* `GarageFinish` has 235 missing values (16.1% of the data).\n",
        "* `EnclosedPorch`and `WoodDeckSF`have a high percentage of missing values. \n",
        "\n",
        "**From `.describe()`:**\n",
        "* `SalePrice` has a maximum value of 755000, which might indicate outliners.\n",
        "* `LotFrontage` has a wide range of values, with a mean of 70 and a max of 313.\n",
        "* `GarageYrBlt` has missing values but represents years, so it might need special handeling. \n",
        "\n",
        "#### Next Steps: Data Cleaning\n",
        "\n"
      ]
    }
  ],
  "metadata": {
    "accelerator": "GPU",
    "colab": {
      "name": "Data Practitioner Jupyter Notebook.ipynb",
      "provenance": [],
      "toc_visible": true
    },
    "kernelspec": {
      "display_name": ".venv",
      "language": "python",
      "name": "python3"
    },
    "language_info": {
      "codemirror_mode": {
        "name": "ipython",
        "version": 3
      },
      "file_extension": ".py",
      "mimetype": "text/x-python",
      "name": "python",
      "nbconvert_exporter": "python",
      "pygments_lexer": "ipython3",
      "version": "3.12.6"
    },
    "orig_nbformat": 2
  },
  "nbformat": 4,
  "nbformat_minor": 2
}
