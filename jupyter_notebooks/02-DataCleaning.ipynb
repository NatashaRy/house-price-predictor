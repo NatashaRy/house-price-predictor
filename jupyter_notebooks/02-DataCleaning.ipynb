{
  "cells": [
    {
      "cell_type": "markdown",
      "metadata": {
        "id": "0aStgWSO0E0E"
      },
      "source": [
        "# **02 - Data Exploration and Cleaning**"
      ]
    },
    {
      "cell_type": "markdown",
      "metadata": {
        "id": "1eLEkw5O0ECa"
      },
      "source": [
        "## Objectives\n",
        "\n",
        "* Clean the dataset to ensure it is ready for analysis and modeling.\n",
        "* Handle missing values, outliers, and inconsistent data.\n",
        "* Optimize data types for better performance.\n",
        "* Save the cleaned dataset for further analysis.\n",
        "\n",
        "## Inputs\n",
        "\n",
        "* The cleaned dataset with categorical columns: `inputs/datasets/raw/house_prices_records.csv`.\n",
        "\n",
        "## Outputs\n",
        "\n",
        "* An updated cleaned dataset saved as: `outputs/datasets/cleaned/house_prices_cleaned.parquet`.\n",
        "\n",
        "## Additional Comments\n",
        "Due to issues with the `GarageFinish` column, where no missing values were present before saving but 235 missing values appeared when the saved file was loaded as a `.csv`, we have decided to use the `.parquet` format instead. Parquet preserves data types and handles missing values more reliably than CSV, ensuring the integrity of the cleaned dataset."
      ]
    },
    {
      "cell_type": "markdown",
      "metadata": {
        "id": "9uWZXH9LwoQg"
      },
      "source": [
        "---"
      ]
    },
    {
      "cell_type": "markdown",
      "metadata": {
        "id": "cqP-UeN-z3i2"
      },
      "source": [
        "## Change working directory"
      ]
    },
    {
      "cell_type": "markdown",
      "metadata": {},
      "source": [
        "* We are assuming you will store the notebooks in a subfolder, therefore when running the notebook in the editor, you will need to change the working directory"
      ]
    },
    {
      "cell_type": "markdown",
      "metadata": {
        "id": "aOGIGS-uz3i2"
      },
      "source": [
        "We need to change the working directory from its current folder to its parent folder\n",
        "* We access the current directory with os.getcwd()"
      ]
    },
    {
      "cell_type": "code",
      "execution_count": 93,
      "metadata": {
        "id": "wZfF_j-Bz3i4",
        "outputId": "66943449-1436-4c3d-85c7-b85f9f78349b"
      },
      "outputs": [
        {
          "data": {
            "text/plain": [
              "'d:\\\\Projects\\\\milestone-project-heritage-housing-issues'"
            ]
          },
          "execution_count": 93,
          "metadata": {},
          "output_type": "execute_result"
        }
      ],
      "source": [
        "import os\n",
        "current_dir = os.getcwd()\n",
        "current_dir"
      ]
    },
    {
      "cell_type": "markdown",
      "metadata": {
        "id": "9MWW8E7lz3i7"
      },
      "source": [
        "We want to make the parent of the current directory the new current directory\n",
        "* os.path.dirname() gets the parent directory\n",
        "* os.chdir() defines the new current directory"
      ]
    },
    {
      "cell_type": "code",
      "execution_count": 94,
      "metadata": {
        "id": "TwHsQRWjz3i9",
        "outputId": "86849db3-cd2f-4cc5-ebb8-2d0caafa1a2c"
      },
      "outputs": [
        {
          "name": "stdout",
          "output_type": "stream",
          "text": [
            "You set a new current directory\n"
          ]
        }
      ],
      "source": [
        "os.chdir(os.path.dirname(current_dir))\n",
        "print(\"You set a new current directory\")"
      ]
    },
    {
      "cell_type": "markdown",
      "metadata": {
        "id": "M_xPk_Ijz3i-"
      },
      "source": [
        "Confirm the new current directory"
      ]
    },
    {
      "cell_type": "code",
      "execution_count": 95,
      "metadata": {
        "id": "vz3S-_kjz3jA",
        "outputId": "00b79ae4-75d0-4a96-d193-ac9ef9847ea2"
      },
      "outputs": [
        {
          "data": {
            "text/plain": [
              "'d:\\\\Projects'"
            ]
          },
          "execution_count": 95,
          "metadata": {},
          "output_type": "execute_result"
        }
      ],
      "source": [
        "current_dir = os.getcwd()\n",
        "current_dir"
      ]
    },
    {
      "cell_type": "markdown",
      "metadata": {
        "id": "-mavJ8DibrcQ"
      },
      "source": [
        "## Section 1: Load data"
      ]
    },
    {
      "cell_type": "markdown",
      "metadata": {},
      "source": [
        "We import the Pandas library to work with tabular data and load the dataset from `inputs/datasets/raw/house_prices_records.csv`. The `.shape` attribute provides the number of rows and columns, and `.head(5)` previews the first 5 rows to verify the data."
      ]
    },
    {
      "cell_type": "code",
      "execution_count": 97,
      "metadata": {},
      "outputs": [
        {
          "name": "stdout",
          "output_type": "stream",
          "text": [
            "Shape of the dataset: (1460, 24)\n"
          ]
        },
        {
          "data": {
            "text/html": [
              "<div>\n",
              "<style scoped>\n",
              "    .dataframe tbody tr th:only-of-type {\n",
              "        vertical-align: middle;\n",
              "    }\n",
              "\n",
              "    .dataframe tbody tr th {\n",
              "        vertical-align: top;\n",
              "    }\n",
              "\n",
              "    .dataframe thead th {\n",
              "        text-align: right;\n",
              "    }\n",
              "</style>\n",
              "<table border=\"1\" class=\"dataframe\">\n",
              "  <thead>\n",
              "    <tr style=\"text-align: right;\">\n",
              "      <th></th>\n",
              "      <th>1stFlrSF</th>\n",
              "      <th>2ndFlrSF</th>\n",
              "      <th>BedroomAbvGr</th>\n",
              "      <th>BsmtExposure</th>\n",
              "      <th>BsmtFinSF1</th>\n",
              "      <th>BsmtFinType1</th>\n",
              "      <th>BsmtUnfSF</th>\n",
              "      <th>EnclosedPorch</th>\n",
              "      <th>GarageArea</th>\n",
              "      <th>GarageFinish</th>\n",
              "      <th>...</th>\n",
              "      <th>LotFrontage</th>\n",
              "      <th>MasVnrArea</th>\n",
              "      <th>OpenPorchSF</th>\n",
              "      <th>OverallCond</th>\n",
              "      <th>OverallQual</th>\n",
              "      <th>TotalBsmtSF</th>\n",
              "      <th>WoodDeckSF</th>\n",
              "      <th>YearBuilt</th>\n",
              "      <th>YearRemodAdd</th>\n",
              "      <th>SalePrice</th>\n",
              "    </tr>\n",
              "  </thead>\n",
              "  <tbody>\n",
              "    <tr>\n",
              "      <th>0</th>\n",
              "      <td>856</td>\n",
              "      <td>854.0</td>\n",
              "      <td>3.0</td>\n",
              "      <td>No</td>\n",
              "      <td>706</td>\n",
              "      <td>GLQ</td>\n",
              "      <td>150</td>\n",
              "      <td>0.0</td>\n",
              "      <td>548</td>\n",
              "      <td>RFn</td>\n",
              "      <td>...</td>\n",
              "      <td>65.0</td>\n",
              "      <td>196.0</td>\n",
              "      <td>61</td>\n",
              "      <td>5</td>\n",
              "      <td>7</td>\n",
              "      <td>856</td>\n",
              "      <td>0.0</td>\n",
              "      <td>2003</td>\n",
              "      <td>2003</td>\n",
              "      <td>208500</td>\n",
              "    </tr>\n",
              "    <tr>\n",
              "      <th>1</th>\n",
              "      <td>1262</td>\n",
              "      <td>0.0</td>\n",
              "      <td>3.0</td>\n",
              "      <td>Gd</td>\n",
              "      <td>978</td>\n",
              "      <td>ALQ</td>\n",
              "      <td>284</td>\n",
              "      <td>NaN</td>\n",
              "      <td>460</td>\n",
              "      <td>RFn</td>\n",
              "      <td>...</td>\n",
              "      <td>80.0</td>\n",
              "      <td>0.0</td>\n",
              "      <td>0</td>\n",
              "      <td>8</td>\n",
              "      <td>6</td>\n",
              "      <td>1262</td>\n",
              "      <td>NaN</td>\n",
              "      <td>1976</td>\n",
              "      <td>1976</td>\n",
              "      <td>181500</td>\n",
              "    </tr>\n",
              "    <tr>\n",
              "      <th>2</th>\n",
              "      <td>920</td>\n",
              "      <td>866.0</td>\n",
              "      <td>3.0</td>\n",
              "      <td>Mn</td>\n",
              "      <td>486</td>\n",
              "      <td>GLQ</td>\n",
              "      <td>434</td>\n",
              "      <td>0.0</td>\n",
              "      <td>608</td>\n",
              "      <td>RFn</td>\n",
              "      <td>...</td>\n",
              "      <td>68.0</td>\n",
              "      <td>162.0</td>\n",
              "      <td>42</td>\n",
              "      <td>5</td>\n",
              "      <td>7</td>\n",
              "      <td>920</td>\n",
              "      <td>NaN</td>\n",
              "      <td>2001</td>\n",
              "      <td>2002</td>\n",
              "      <td>223500</td>\n",
              "    </tr>\n",
              "    <tr>\n",
              "      <th>3</th>\n",
              "      <td>961</td>\n",
              "      <td>NaN</td>\n",
              "      <td>NaN</td>\n",
              "      <td>No</td>\n",
              "      <td>216</td>\n",
              "      <td>ALQ</td>\n",
              "      <td>540</td>\n",
              "      <td>NaN</td>\n",
              "      <td>642</td>\n",
              "      <td>Unf</td>\n",
              "      <td>...</td>\n",
              "      <td>60.0</td>\n",
              "      <td>0.0</td>\n",
              "      <td>35</td>\n",
              "      <td>5</td>\n",
              "      <td>7</td>\n",
              "      <td>756</td>\n",
              "      <td>NaN</td>\n",
              "      <td>1915</td>\n",
              "      <td>1970</td>\n",
              "      <td>140000</td>\n",
              "    </tr>\n",
              "    <tr>\n",
              "      <th>4</th>\n",
              "      <td>1145</td>\n",
              "      <td>NaN</td>\n",
              "      <td>4.0</td>\n",
              "      <td>Av</td>\n",
              "      <td>655</td>\n",
              "      <td>GLQ</td>\n",
              "      <td>490</td>\n",
              "      <td>0.0</td>\n",
              "      <td>836</td>\n",
              "      <td>RFn</td>\n",
              "      <td>...</td>\n",
              "      <td>84.0</td>\n",
              "      <td>350.0</td>\n",
              "      <td>84</td>\n",
              "      <td>5</td>\n",
              "      <td>8</td>\n",
              "      <td>1145</td>\n",
              "      <td>NaN</td>\n",
              "      <td>2000</td>\n",
              "      <td>2000</td>\n",
              "      <td>250000</td>\n",
              "    </tr>\n",
              "  </tbody>\n",
              "</table>\n",
              "<p>5 rows × 24 columns</p>\n",
              "</div>"
            ],
            "text/plain": [
              "   1stFlrSF  2ndFlrSF  BedroomAbvGr BsmtExposure  BsmtFinSF1 BsmtFinType1  \\\n",
              "0       856     854.0           3.0           No         706          GLQ   \n",
              "1      1262       0.0           3.0           Gd         978          ALQ   \n",
              "2       920     866.0           3.0           Mn         486          GLQ   \n",
              "3       961       NaN           NaN           No         216          ALQ   \n",
              "4      1145       NaN           4.0           Av         655          GLQ   \n",
              "\n",
              "   BsmtUnfSF  EnclosedPorch  GarageArea GarageFinish  ...  LotFrontage  \\\n",
              "0        150            0.0         548          RFn  ...         65.0   \n",
              "1        284            NaN         460          RFn  ...         80.0   \n",
              "2        434            0.0         608          RFn  ...         68.0   \n",
              "3        540            NaN         642          Unf  ...         60.0   \n",
              "4        490            0.0         836          RFn  ...         84.0   \n",
              "\n",
              "   MasVnrArea OpenPorchSF  OverallCond  OverallQual  TotalBsmtSF  WoodDeckSF  \\\n",
              "0       196.0          61            5            7          856         0.0   \n",
              "1         0.0           0            8            6         1262         NaN   \n",
              "2       162.0          42            5            7          920         NaN   \n",
              "3         0.0          35            5            7          756         NaN   \n",
              "4       350.0          84            5            8         1145         NaN   \n",
              "\n",
              "   YearBuilt  YearRemodAdd  SalePrice  \n",
              "0       2003          2003     208500  \n",
              "1       1976          1976     181500  \n",
              "2       2001          2002     223500  \n",
              "3       1915          1970     140000  \n",
              "4       2000          2000     250000  \n",
              "\n",
              "[5 rows x 24 columns]"
            ]
          },
          "execution_count": 97,
          "metadata": {},
          "output_type": "execute_result"
        }
      ],
      "source": [
        "import pandas as pd\n",
        "\n",
        "df_prices = pd.read_csv(\"inputs/datasets/raw/house_prices_records.csv\")\n",
        "\n",
        "print(\"Shape of the dataset:\", df_prices.shape)\n",
        "df_prices.head(5)"
      ]
    },
    {
      "cell_type": "markdown",
      "metadata": {
        "id": "ZY3l0-AxO93d"
      },
      "source": [
        "---"
      ]
    },
    {
      "cell_type": "markdown",
      "metadata": {
        "id": "uFQo3ycuO-v6"
      },
      "source": [
        "## Section 2: Data Exploration"
      ]
    },
    {
      "cell_type": "markdown",
      "metadata": {},
      "source": [
        "We identify columns with missing values, sort them in descending order, and create a table showing the number and percentage of missing values for each column. This helps prioritize data cleaning efforts."
      ]
    },
    {
      "cell_type": "code",
      "execution_count": 98,
      "metadata": {},
      "outputs": [
        {
          "data": {
            "text/html": [
              "<div>\n",
              "<style scoped>\n",
              "    .dataframe tbody tr th:only-of-type {\n",
              "        vertical-align: middle;\n",
              "    }\n",
              "\n",
              "    .dataframe tbody tr th {\n",
              "        vertical-align: top;\n",
              "    }\n",
              "\n",
              "    .dataframe thead th {\n",
              "        text-align: right;\n",
              "    }\n",
              "</style>\n",
              "<table border=\"1\" class=\"dataframe\">\n",
              "  <thead>\n",
              "    <tr style=\"text-align: right;\">\n",
              "      <th></th>\n",
              "      <th>Column</th>\n",
              "      <th>Missing Values</th>\n",
              "      <th>Percentage</th>\n",
              "      <th>Datatype</th>\n",
              "    </tr>\n",
              "  </thead>\n",
              "  <tbody>\n",
              "    <tr>\n",
              "      <th>0</th>\n",
              "      <td>EnclosedPorch</td>\n",
              "      <td>1324</td>\n",
              "      <td>90.68</td>\n",
              "      <td>float64</td>\n",
              "    </tr>\n",
              "    <tr>\n",
              "      <th>1</th>\n",
              "      <td>WoodDeckSF</td>\n",
              "      <td>1305</td>\n",
              "      <td>89.38</td>\n",
              "      <td>float64</td>\n",
              "    </tr>\n",
              "    <tr>\n",
              "      <th>2</th>\n",
              "      <td>LotFrontage</td>\n",
              "      <td>259</td>\n",
              "      <td>17.74</td>\n",
              "      <td>float64</td>\n",
              "    </tr>\n",
              "    <tr>\n",
              "      <th>3</th>\n",
              "      <td>GarageFinish</td>\n",
              "      <td>235</td>\n",
              "      <td>16.10</td>\n",
              "      <td>object</td>\n",
              "    </tr>\n",
              "    <tr>\n",
              "      <th>4</th>\n",
              "      <td>BsmtFinType1</td>\n",
              "      <td>145</td>\n",
              "      <td>9.93</td>\n",
              "      <td>object</td>\n",
              "    </tr>\n",
              "    <tr>\n",
              "      <th>5</th>\n",
              "      <td>BedroomAbvGr</td>\n",
              "      <td>99</td>\n",
              "      <td>6.78</td>\n",
              "      <td>float64</td>\n",
              "    </tr>\n",
              "    <tr>\n",
              "      <th>6</th>\n",
              "      <td>2ndFlrSF</td>\n",
              "      <td>86</td>\n",
              "      <td>5.89</td>\n",
              "      <td>float64</td>\n",
              "    </tr>\n",
              "    <tr>\n",
              "      <th>7</th>\n",
              "      <td>GarageYrBlt</td>\n",
              "      <td>81</td>\n",
              "      <td>5.55</td>\n",
              "      <td>float64</td>\n",
              "    </tr>\n",
              "    <tr>\n",
              "      <th>8</th>\n",
              "      <td>BsmtExposure</td>\n",
              "      <td>38</td>\n",
              "      <td>2.60</td>\n",
              "      <td>object</td>\n",
              "    </tr>\n",
              "    <tr>\n",
              "      <th>9</th>\n",
              "      <td>MasVnrArea</td>\n",
              "      <td>8</td>\n",
              "      <td>0.55</td>\n",
              "      <td>float64</td>\n",
              "    </tr>\n",
              "  </tbody>\n",
              "</table>\n",
              "</div>"
            ],
            "text/plain": [
              "          Column  Missing Values  Percentage Datatype\n",
              "0  EnclosedPorch            1324       90.68  float64\n",
              "1     WoodDeckSF            1305       89.38  float64\n",
              "2    LotFrontage             259       17.74  float64\n",
              "3   GarageFinish             235       16.10   object\n",
              "4   BsmtFinType1             145        9.93   object\n",
              "5   BedroomAbvGr              99        6.78  float64\n",
              "6       2ndFlrSF              86        5.89  float64\n",
              "7    GarageYrBlt              81        5.55  float64\n",
              "8   BsmtExposure              38        2.60   object\n",
              "9     MasVnrArea               8        0.55  float64"
            ]
          },
          "execution_count": 98,
          "metadata": {},
          "output_type": "execute_result"
        }
      ],
      "source": [
        "missing_values = df_prices.isnull().sum()\n",
        "missing_data = missing_values[missing_values > 0].sort_values(ascending=False)\n",
        "\n",
        "missing_data_df = pd.DataFrame({\n",
        "    \"Column\": missing_data.index,\n",
        "    \"Missing Values\": missing_data.values,\n",
        "    \"Percentage\": (missing_data.values / len(df_prices) * 100).round(2),\n",
        "    \"Datatype\": [df_prices[col].dtype for col in missing_data.index]\n",
        "})\n",
        "\n",
        "missing_data_df"
      ]
    },
    {
      "cell_type": "markdown",
      "metadata": {},
      "source": [
        "We use `ydata_profiling` to generate a detailed report for columns with missing values. This helps us understand the distribution, patterns, and potential issues in these columns, guiding our data cleaning process."
      ]
    },
    {
      "cell_type": "code",
      "execution_count": 99,
      "metadata": {},
      "outputs": [
        {
          "ename": "ImportError",
          "evalue": "cannot import name 'display' from 'IPython.core.display' (d:\\Projects\\milestone-project-heritage-housing-issues\\.venv\\Lib\\site-packages\\IPython\\core\\display.py)",
          "output_type": "error",
          "traceback": [
            "\u001b[31m---------------------------------------------------------------------------\u001b[39m",
            "\u001b[31mImportError\u001b[39m                               Traceback (most recent call last)",
            "\u001b[36mCell\u001b[39m\u001b[36m \u001b[39m\u001b[32mIn[99]\u001b[39m\u001b[32m, line 7\u001b[39m\n\u001b[32m      5\u001b[39m \u001b[38;5;28;01mif\u001b[39;00m vars_with_missing_data:\n\u001b[32m      6\u001b[39m     profile = ProfileReport(df=df_prices[vars_with_missing_data], minimal=\u001b[38;5;28;01mTrue\u001b[39;00m)\n\u001b[32m----> \u001b[39m\u001b[32m7\u001b[39m     \u001b[43mprofile\u001b[49m\u001b[43m.\u001b[49m\u001b[43mto_notebook_iframe\u001b[49m\u001b[43m(\u001b[49m\u001b[43m)\u001b[49m\n\u001b[32m      8\u001b[39m \u001b[38;5;28;01melse\u001b[39;00m:\n\u001b[32m      9\u001b[39m     \u001b[38;5;28mprint\u001b[39m(\u001b[33m\"\u001b[39m\u001b[33mThere are no variables with missing data\u001b[39m\u001b[33m\"\u001b[39m)\n",
            "\u001b[36mFile \u001b[39m\u001b[32md:\\Projects\\milestone-project-heritage-housing-issues\\.venv\\Lib\\site-packages\\ydata_profiling\\profile_report.py:512\u001b[39m, in \u001b[36mProfileReport.to_notebook_iframe\u001b[39m\u001b[34m(self)\u001b[39m\n\u001b[32m    502\u001b[39m \u001b[38;5;28;01mdef\u001b[39;00m\u001b[38;5;250m \u001b[39m\u001b[34mto_notebook_iframe\u001b[39m(\u001b[38;5;28mself\u001b[39m) -> \u001b[38;5;28;01mNone\u001b[39;00m:\n\u001b[32m    503\u001b[39m \u001b[38;5;250m    \u001b[39m\u001b[33;03m\"\"\"Used to output the HTML representation to a Jupyter notebook.\u001b[39;00m\n\u001b[32m    504\u001b[39m \u001b[33;03m    When config.notebook.iframe.attribute is \"src\", this function creates a temporary HTML file\u001b[39;00m\n\u001b[32m    505\u001b[39m \u001b[33;03m    in `./tmp/profile_[hash].html` and returns an Iframe pointing to that contents.\u001b[39;00m\n\u001b[32m   (...)\u001b[39m\u001b[32m    510\u001b[39m \u001b[33;03m        This constructions solves problems with conflicting stylesheets and navigation links.\u001b[39;00m\n\u001b[32m    511\u001b[39m \u001b[33;03m    \"\"\"\u001b[39;00m\n\u001b[32m--> \u001b[39m\u001b[32m512\u001b[39m     \u001b[38;5;28;01mfrom\u001b[39;00m\u001b[38;5;250m \u001b[39m\u001b[34;01mIPython\u001b[39;00m\u001b[34;01m.\u001b[39;00m\u001b[34;01mcore\u001b[39;00m\u001b[34;01m.\u001b[39;00m\u001b[34;01mdisplay\u001b[39;00m\u001b[38;5;250m \u001b[39m\u001b[38;5;28;01mimport\u001b[39;00m display\n\u001b[32m    514\u001b[39m     \u001b[38;5;28;01mfrom\u001b[39;00m\u001b[38;5;250m \u001b[39m\u001b[34;01mydata_profiling\u001b[39;00m\u001b[34;01m.\u001b[39;00m\u001b[34;01mreport\u001b[39;00m\u001b[34;01m.\u001b[39;00m\u001b[34;01mpresentation\u001b[39;00m\u001b[34;01m.\u001b[39;00m\u001b[34;01mflavours\u001b[39;00m\u001b[34;01m.\u001b[39;00m\u001b[34;01mwidget\u001b[39;00m\u001b[34;01m.\u001b[39;00m\u001b[34;01mnotebook\u001b[39;00m\u001b[38;5;250m \u001b[39m\u001b[38;5;28;01mimport\u001b[39;00m (\n\u001b[32m    515\u001b[39m         get_notebook_iframe,\n\u001b[32m    516\u001b[39m     )\n\u001b[32m    518\u001b[39m     \u001b[38;5;66;03m# Ignore warning: https://github.com/ipython/ipython/pull/11350/files\u001b[39;00m\n",
            "\u001b[31mImportError\u001b[39m: cannot import name 'display' from 'IPython.core.display' (d:\\Projects\\milestone-project-heritage-housing-issues\\.venv\\Lib\\site-packages\\IPython\\core\\display.py)"
          ]
        }
      ],
      "source": [
        "from ydata_profiling import ProfileReport\n",
        "\n",
        "vars_with_missing_data = missing_data.index.tolist()\n",
        "\n",
        "if vars_with_missing_data:\n",
        "    profile = ProfileReport(df=df_prices[vars_with_missing_data], minimal=True)\n",
        "    profile.to_notebook_iframe()\n",
        "else:\n",
        "    print(\"There are no variables with missing data\")"
      ]
    },
    {
      "cell_type": "markdown",
      "metadata": {},
      "source": [
        "## Section 3: Data Cleaning"
      ]
    },
    {
      "cell_type": "markdown",
      "metadata": {},
      "source": [
        "### 1. Handling missing values\n",
        "\n",
        "Fill missing values and checking no missing values remain:\n",
        "* `LotFrontage`, `BedroomAbvGr`, `MsnVnrArea`: Filled missing value with the median to handle skewed distribution.\n",
        "*  `BsmtExposure`: Filled missing values with 'No' to indicate no basement exposure.\n",
        "*  `BsmtFinType1`: Filled missing values with 'Unf'  to indicate no finished basement.\n",
        "*  `GarageFinish`: Filled missing values with 'None' to indicate no finished garage.\n",
        "*  `2ndFlrSF`, `GarageYrBlt`: Filled missing values with '0' to indicate no second floor/garage."
      ]
    },
    {
      "cell_type": "code",
      "execution_count": 100,
      "metadata": {},
      "outputs": [
        {
          "name": "stdout",
          "output_type": "stream",
          "text": [
            "1stFlrSF            0\n",
            "2ndFlrSF            0\n",
            "BedroomAbvGr        0\n",
            "BsmtExposure        0\n",
            "BsmtFinSF1          0\n",
            "BsmtFinType1        0\n",
            "BsmtUnfSF           0\n",
            "EnclosedPorch    1324\n",
            "GarageArea          0\n",
            "GarageFinish        0\n",
            "GarageYrBlt         0\n",
            "GrLivArea           0\n",
            "KitchenQual         0\n",
            "LotArea             0\n",
            "LotFrontage         0\n",
            "MasVnrArea          0\n",
            "OpenPorchSF         0\n",
            "OverallCond         0\n",
            "OverallQual         0\n",
            "TotalBsmtSF         0\n",
            "WoodDeckSF       1305\n",
            "YearBuilt           0\n",
            "YearRemodAdd        0\n",
            "SalePrice           0\n",
            "dtype: int64\n"
          ]
        }
      ],
      "source": [
        "df_prices['LotFrontage'].fillna(df_prices['LotFrontage'].median(), inplace=True)\n",
        "df_prices['BedroomAbvGr'].fillna(df_prices['BedroomAbvGr'].median(), inplace=True)\n",
        "df_prices['MasVnrArea'].fillna(df_prices['MasVnrArea'].median(), inplace=True)\n",
        "df_prices['BsmtExposure'].fillna('No', inplace=True)\n",
        "df_prices['BsmtFinType1'].fillna('Unf', inplace=True)\n",
        "df_prices['GarageFinish'].fillna('None', inplace=True)\n",
        "df_prices['2ndFlrSF'].fillna(0, inplace=True)\n",
        "df_prices['GarageYrBlt'].fillna(0, inplace=True)\n",
        "\n",
        "print(df_prices.isnull().sum())\n",
        "\n"
      ]
    },
    {
      "cell_type": "markdown",
      "metadata": {},
      "source": [
        "### 2. Dropping columns\n",
        "Drop `EnclosedPorch` and `WoodDeckSF` since they have more than 80% missing values. "
      ]
    },
    {
      "cell_type": "code",
      "execution_count": 101,
      "metadata": {},
      "outputs": [],
      "source": [
        "df_prices.drop(columns=['EnclosedPorch', 'WoodDeckSF'], inplace=True)"
      ]
    },
    {
      "cell_type": "markdown",
      "metadata": {},
      "source": [
        "---"
      ]
    },
    {
      "cell_type": "markdown",
      "metadata": {},
      "source": [
        "## Section 4: Split data into train and test sets"
      ]
    },
    {
      "cell_type": "markdown",
      "metadata": {},
      "source": [
        "Create new directory for cleaned datasets and save the cleaned dataset."
      ]
    },
    {
      "cell_type": "code",
      "execution_count": 102,
      "metadata": {},
      "outputs": [],
      "source": [
        "import os\n",
        "try:\n",
        "    os.makedirs(name='outputs/datasets/cleaned', exist_ok=True)\n",
        "except Exception as e:\n",
        "    print(e)\n",
        "\n",
        "df_prices.to_parquet(\"outputs/datasets/cleaned/house_prices_cleaned.parquet\", index=False)"
      ]
    },
    {
      "cell_type": "markdown",
      "metadata": {},
      "source": [
        "Split data into train and test sets and provide the amount of rows and columns for each dataset."
      ]
    },
    {
      "cell_type": "code",
      "execution_count": 103,
      "metadata": {},
      "outputs": [
        {
          "name": "stdout",
          "output_type": "stream",
          "text": [
            "Train set shape: (1168, 22)\n",
            "Test set shape: (292, 22)\n"
          ]
        }
      ],
      "source": [
        "from sklearn.model_selection import train_test_split\n",
        "\n",
        "df_cleaned = pd.read_parquet(\"outputs/datasets/cleaned/house_prices_cleaned.parquet\")\n",
        "TrainSet, TestSet = train_test_split(\n",
        "    df_cleaned,\n",
        "    test_size=0.2,\n",
        "    random_state=42)\n",
        "print(f\"Train set shape: {TrainSet.shape}\")\n",
        "print(f\"Test set shape: {TestSet.shape}\")"
      ]
    },
    {
      "cell_type": "markdown",
      "metadata": {},
      "source": [
        "Checking missing values in train and test set."
      ]
    },
    {
      "cell_type": "code",
      "execution_count": 104,
      "metadata": {},
      "outputs": [
        {
          "name": "stdout",
          "output_type": "stream",
          "text": [
            "Missing values in TrainSet:\n",
            "1stFlrSF        0\n",
            "2ndFlrSF        0\n",
            "BedroomAbvGr    0\n",
            "BsmtExposure    0\n",
            "BsmtFinSF1      0\n",
            "BsmtFinType1    0\n",
            "BsmtUnfSF       0\n",
            "GarageArea      0\n",
            "GarageFinish    0\n",
            "GarageYrBlt     0\n",
            "GrLivArea       0\n",
            "KitchenQual     0\n",
            "LotArea         0\n",
            "LotFrontage     0\n",
            "MasVnrArea      0\n",
            "OpenPorchSF     0\n",
            "OverallCond     0\n",
            "OverallQual     0\n",
            "TotalBsmtSF     0\n",
            "YearBuilt       0\n",
            "YearRemodAdd    0\n",
            "SalePrice       0\n",
            "dtype: int64\n",
            "Missing values in TestSet:\n",
            "1stFlrSF        0\n",
            "2ndFlrSF        0\n",
            "BedroomAbvGr    0\n",
            "BsmtExposure    0\n",
            "BsmtFinSF1      0\n",
            "BsmtFinType1    0\n",
            "BsmtUnfSF       0\n",
            "GarageArea      0\n",
            "GarageFinish    0\n",
            "GarageYrBlt     0\n",
            "GrLivArea       0\n",
            "KitchenQual     0\n",
            "LotArea         0\n",
            "LotFrontage     0\n",
            "MasVnrArea      0\n",
            "OpenPorchSF     0\n",
            "OverallCond     0\n",
            "OverallQual     0\n",
            "TotalBsmtSF     0\n",
            "YearBuilt       0\n",
            "YearRemodAdd    0\n",
            "SalePrice       0\n",
            "dtype: int64\n"
          ]
        }
      ],
      "source": [
        "print(f\"Missing values in TrainSet:\\n{TrainSet.isnull().sum()}\")\n",
        "print(f\"Missing values in TestSet:\\n{TestSet.isnull().sum()}\")"
      ]
    },
    {
      "cell_type": "markdown",
      "metadata": {},
      "source": [
        "---"
      ]
    },
    {
      "cell_type": "markdown",
      "metadata": {},
      "source": [
        "## Section 5: Visualize Data Cleaning Effects"
      ]
    },
    {
      "cell_type": "markdown",
      "metadata": {},
      "source": [
        "We are using the DataCleaningEffect function to visualize the impact of data cleaning on specific variables. This helps us:\n",
        "1. Verify the cleaning process: Ensure that missing values have been handled correctly and that the data cleaning hasn't introduced any unexpected changes.\n",
        "2. Compare original vs cleaned data: See how the distributions of variables have changed after cleaning.\n",
        "3. Document the process: Provide clear visual evidence of the cleaning steps for transparency and reproducibility."
      ]
    },
    {
      "cell_type": "code",
      "execution_count": 110,
      "metadata": {},
      "outputs": [
        {
          "name": "stdout",
          "output_type": "stream",
          "text": [
            "*** Distribution Effect Analysis After Data Cleaning Method on variable: LotFrontage\n"
          ]
        },
        {
          "data": {
            "image/png": "[encoded data removed]",
            "text/plain": [
              "<Figure size 800x400 with 1 Axes>"
            ]
          },
          "metadata": {},
          "output_type": "display_data"
        },
        {
          "name": "stdout",
          "output_type": "stream",
          "text": [
            "*** Histogram for numerical variable: LotFrontage\n",
            "*** Distribution Effect Analysis After Data Cleaning Method on variable: BedroomAbvGr\n"
          ]
        },
        {
          "data": {
            "image/png": "[encoded data removed]",
            "text/plain": [
              "<Figure size 800x400 with 1 Axes>"
            ]
          },
          "metadata": {},
          "output_type": "display_data"
        },
        {
          "name": "stdout",
          "output_type": "stream",
          "text": [
            "*** Histogram for numerical variable: BedroomAbvGr\n",
            "*** Distribution Effect Analysis After Data Cleaning Method on variable: GarageFinish\n"
          ]
        },
        {
          "data": {
            "image/png": "[encoded data removed]",
            "text/plain": [
              "<Figure size 800x400 with 1 Axes>"
            ]
          },
          "metadata": {},
          "output_type": "display_data"
        },
        {
          "name": "stdout",
          "output_type": "stream",
          "text": [
            "*** Bar plot for categorical variable: GarageFinish\n",
            "*** Distribution Effect Analysis After Data Cleaning Method on variable: MasVnrArea\n"
          ]
        },
        {
          "data": {
            "image/png": "[encoded data removed]",
            "text/plain": [
              "<Figure size 800x400 with 1 Axes>"
            ]
          },
          "metadata": {},
          "output_type": "display_data"
        },
        {
          "name": "stdout",
          "output_type": "stream",
          "text": [
            "*** Histogram for numerical variable: MasVnrArea\n"
          ]
        }
      ],
      "source": [
        "import seaborn as sns\n",
        "import matplotlib.pyplot as plt\n",
        "%matplotlib inline\n",
        "\n",
        "# Theme\n",
        "sns.set_theme(style=\"darkgrid\")\n",
        "\n",
        "\n",
        "def DataCleaningEffect(df_original, df_cleaned, variables_applied_with_method):\n",
        "    \"\"\"\n",
        "    Function to visualize the effect of data cleaning on specified variables using the Spectral palette.\n",
        "    \"\"\"\n",
        "    flag_count = 1\n",
        "\n",
        "    # Identify categorical variables\n",
        "    categorical_variables = df_original.select_dtypes(exclude=['number']).columns\n",
        "\n",
        "    # Loop through every variable in the list\n",
        "    for var in variables_applied_with_method:\n",
        "        print(f\"*** Distribution Effect Analysis After Data Cleaning Method on variable: {var}\")\n",
        "\n",
        "        if var in categorical_variables:\n",
        "            # For categorical variables, create a bar chart\n",
        "            df1 = pd.DataFrame({\"Type\": \"Original\", \"Value\": df_original[var]})\n",
        "            df2 = pd.DataFrame({\"Type\": \"Cleaned\", \"Value\": df_cleaned[var]})\n",
        "            dfAux = pd.concat([df1, df2], axis=0)\n",
        "            dfAux.reset_index(drop=True, inplace=True) \n",
        "\n",
        "            fig, axes = plt.subplots(figsize=(8, 4))\n",
        "            sns.countplot(\n",
        "                data=dfAux, \n",
        "                x=\"Value\", \n",
        "                hue=\"Type\", \n",
        "                palette=sns.color_palette(\"Spectral\", n_colors=2) \n",
        "                )\n",
        "            axes.set_title(f\"Distribution Plot {flag_count}: {var}\")\n",
        "            plt.xticks(rotation=90)\n",
        "            plt.legend()\n",
        "            plt.show()\n",
        "            print(f\"*** Bar plot for categorical variable: {var}\")\n",
        "\n",
        "        else:\n",
        "            # For numeric variables, create histograms\n",
        "            fig, axes = plt.subplots(figsize=(8, 4))\n",
        "            sns.histplot(\n",
        "                data=df_original, \n",
        "                x=var, \n",
        "                color=sns.color_palette(\"Spectral\")[4],  \n",
        "                label='Original', \n",
        "                kde=True, \n",
        "                element=\"step\", \n",
        "                ax=axes\n",
        "                )\n",
        "            sns.histplot(\n",
        "                data=df_cleaned, \n",
        "                x=var, \n",
        "                color=sns.color_palette(\"Spectral\")[5],  \n",
        "                label='Cleaned', \n",
        "                kde=True, \n",
        "                element=\"step\", \n",
        "                ax=axes\n",
        "                )\n",
        "            axes.set_title(f\"Distribution Plot {flag_count}: {var}\")\n",
        "            plt.legend()\n",
        "            plt.show()\n",
        "            print(f\"*** Histogram for numerical variable: {var}\")\n",
        "\n",
        "        plt.close(fig)\n",
        "        flag_count += 1\n",
        "\n",
        "\n",
        "# Variables to verify\n",
        "variables_to_verify = ['LotFrontage', 'BedroomAbvGr', 'GarageFinish', 'MasVnrArea']\n",
        "\n",
        "# Call function to verify cleaning process\n",
        "DataCleaningEffect(df_original=df_prices, \n",
        "                   df_cleaned=TrainSet, \n",
        "                   variables_applied_with_method=variables_to_verify)"
      ]
    },
    {
      "cell_type": "markdown",
      "metadata": {},
      "source": [
        "---"
      ]
    },
    {
      "cell_type": "markdown",
      "metadata": {
        "id": "ltNetd085qHf"
      },
      "source": [
        "## Conclusion and Next Steps"
      ]
    },
    {
      "cell_type": "markdown",
      "metadata": {},
      "source": [
        "### Conclusion\n",
        "We successfully completed the data cleaning process, ensuring that the dataset is ready for further analysis and modeling. \n",
        "Key steps included:\n",
        "1. **Handling Missing Values**: Missing values were addressed using logical and data-driven methods, such as imputing with the median or filling with appropriate categorical values like 'None'.\n",
        "2. **Optimizing Data Types**: Categorical columns were converted to the category data type to improve memory efficiency and performance.\n",
        "1. **Dropping Irrelevant columns**: Columns with a high percentage of missing values or low relevance were removed to streamline the dataset.\n",
        "2. **Splitting Data**: The dataset was split into TrainSet and TestSet to prepare for modeling, ensuring no missing values remain in either set.\n",
        "5. **Verification**: Visualizations were used to verify the cleaning process, comparing original and cleaned data to ensure no unexpected changes were introduced.\n",
        "\n",
        "### Next steps: Correlation Study\n",
        "1. **Formulate Hypotheses**: Create hypotheses based on selected attributes that are likely to influence the target variable (`SalePrice`).\n",
        "2. **Analyze Relationship**: Analyze relationships between chosen attributes and `SalePrice` to identify key predictors that can be used in the predictive model.\n",
        "3. **Visualize Insights**: Use visualizations such as heatmaps, scatterplots, and boxplots to explore and present these relationships in a clear and interpretable manner.\n",
        "\n",
        "## Save file\n",
        "Save train and test set to `outputs/datasets/cleaned` directory."
      ]
    },
    {
      "cell_type": "code",
      "execution_count": 114,
      "metadata": {
        "id": "aKlnIozA4eQO",
        "outputId": "fd09bc1f-adb1-4511-f6ce-492a6af570c0"
      },
      "outputs": [],
      "source": [
        "TrainSet.to_parquet(\"outputs/datasets/cleaned/train_set.parquet\", index=False)\n",
        "TestSet.to_parquet(\"outputs/datasets/cleaned/test_set.parquet\", index=False)"
      ]
    }
  ],
  "metadata": {
    "accelerator": "GPU",
    "colab": {
      "name": "Data Practitioner Jupyter Notebook.ipynb",
      "provenance": [],
      "toc_visible": true
    },
    "kernelspec": {
      "display_name": ".venv",
      "language": "python",
      "name": "python3"
    },
    "language_info": {
      "codemirror_mode": {
        "name": "ipython",
        "version": 3
      },
      "file_extension": ".py",
      "mimetype": "text/x-python",
      "name": "python",
      "nbconvert_exporter": "python",
      "pygments_lexer": "ipython3",
      "version": "3.12.6"
    },
    "orig_nbformat": 2
  },
  "nbformat": 4,
  "nbformat_minor": 2
}
